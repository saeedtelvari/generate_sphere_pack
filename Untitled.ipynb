{
 "cells": [
  {
   "cell_type": "code",
   "execution_count": 19,
   "id": "ccc2657d-7d63-4b20-9def-ab89425893c5",
   "metadata": {
    "scrolled": true
   },
   "outputs": [],
   "source": [
    "import porespy as ps\n",
    "import pandas as pd\n",
    "import numpy as np\n",
    "import matplotlib.pyplot as plt\n",
    "from itertools import product"
   ]
  },
  {
   "cell_type": "code",
   "execution_count": 11,
   "id": "caf9d2ec-2cfa-4214-89bc-98fca2441c0a",
   "metadata": {},
   "outputs": [],
   "source": [
    "dx, dy, dz = 10, 10, 10\n",
    "r = 1\n",
    "throat = 0.1"
   ]
  },
  {
   "cell_type": "code",
   "execution_count": 83,
   "id": "c8247454-daaf-4484-98d2-ae3b4d360510",
   "metadata": {},
   "outputs": [],
   "source": [
    "xi, yi, zi = r, r, r\n",
    "\n",
    "dr = 2*r + throat\n",
    "\n",
    "xs = [xi+i*dr for i in range(int(dx//(dr)))]\n",
    "\n",
    "ys = [yi+i*dr for i in range(int(dy//(dr)))]\n",
    "\n",
    "zs = [zi+i*dr for i in range(int(dz//(dr)))]\n",
    "\n",
    "data = list(product(xs,ys,zs, [r]))"
   ]
  },
  {
   "cell_type": "code",
   "execution_count": 84,
   "id": "6b8d8ba6-8d15-4352-8cee-5ac699a0e6f5",
   "metadata": {},
   "outputs": [
    {
     "name": "stdout",
     "output_type": "stream",
     "text": [
      "      X    Y    Z    R\n",
      "0   1.0  1.0  1.0  1.0\n",
      "1   1.0  1.0  3.1  1.0\n",
      "2   1.0  1.0  5.2  1.0\n",
      "3   1.0  1.0  7.3  1.0\n",
      "4   1.0  3.1  1.0  1.0\n",
      "..  ...  ...  ...  ...\n",
      "59  7.3  5.2  7.3  1.0\n",
      "60  7.3  7.3  1.0  1.0\n",
      "61  7.3  7.3  3.1  1.0\n",
      "62  7.3  7.3  5.2  1.0\n",
      "63  7.3  7.3  7.3  1.0\n",
      "\n",
      "[64 rows x 4 columns]\n"
     ]
    },
    {
     "data": {
      "text/plain": [
       "217.82296769555097"
      ]
     },
     "execution_count": 84,
     "metadata": {},
     "output_type": "execute_result"
    }
   ],
   "source": [
    "df = pd.DataFrame(np.copy(data), columns=['X', 'Y', 'Z', 'R'])\n",
    "print(df)\n",
    "\n",
    "df['X'] *= 30\n",
    "df['Y'] *= 30\n",
    "df['Z'] *= 30\n",
    "df['R'] *= 30\n",
    "(df['X'].max()*df['Y'].max()*df['Z'].max())**0.333"
   ]
  },
  {
   "cell_type": "code",
   "execution_count": 85,
   "id": "13a1af3e-9b20-476f-880a-9aab73cbc53c",
   "metadata": {},
   "outputs": [],
   "source": [
    "im = ps.generators.spheres_from_coords(df)"
   ]
  },
  {
   "cell_type": "code",
   "execution_count": 86,
   "id": "7d81db03-e485-49b8-89a8-3b70712ed7aa",
   "metadata": {},
   "outputs": [
    {
     "data": {
      "text/plain": [
       "0.536820224"
      ]
     },
     "execution_count": 86,
     "metadata": {},
     "output_type": "execute_result"
    }
   ],
   "source": [
    "1-np.count_nonzero(im)/im.size"
   ]
  },
  {
   "cell_type": "code",
   "execution_count": 87,
   "id": "ea0e9cb6-0941-4ce2-b30d-dec0adbf79dd",
   "metadata": {
    "scrolled": true
   },
   "outputs": [
    {
     "data": {
      "image/png": "[encoded data removed]",
      "text/plain": [
       "<Figure size 432x288 with 1 Axes>"
      ]
     },
     "metadata": {
      "needs_background": "light"
     },
     "output_type": "display_data"
    }
   ],
   "source": [
    "fig, ax = plt.subplots()\n",
    "ax.imshow(ps.visualization.xray(~im[..., :100], axis=2), interpolation='none', origin='lower', cmap=plt.cm.bone)\n",
    "ax.axis(False);"
   ]
  },
  {
   "cell_type": "code",
   "execution_count": 88,
   "id": "f52df81e-c6b5-44f0-b714-ad79965629be",
   "metadata": {
    "scrolled": true
   },
   "outputs": [
    {
     "data": {
      "text/plain": [
       "<matplotlib.image.AxesImage at 0x7fa6be9c9a30>"
      ]
     },
     "execution_count": 88,
     "metadata": {},
     "output_type": "execute_result"
    },
    {
     "data": {
      "image/png": "[encoded data removed]",
      "text/plain": [
       "<Figure size 432x288 with 1 Axes>"
      ]
     },
     "metadata": {
      "needs_background": "light"
     },
     "output_type": "display_data"
    }
   ],
   "source": [
    "plt.imshow(im[5])"
   ]
  },
  {
   "cell_type": "code",
   "execution_count": 99,
   "id": "5f3f8560-e761-4ec7-b62a-ac17ed83f775",
   "metadata": {},
   "outputs": [],
   "source": [
    "throat2 = 0.04\n",
    "r2 = dr*np.sqrt(2)/2 - r - throat2\n",
    "xi, yi, zi = 2*r+throat/2, 2*r+throat/2, 2*r+throat/2\n",
    "\n",
    "dr = 2*r + throat\n",
    "\n",
    "xs = [xi+i*dr for i in range(int(dx//(dr)-1))]\n",
    "\n",
    "ys = [yi+i*dr for i in range(int(dy//(dr)-1))]\n",
    "\n",
    "zs = [zi+i*dr for i in range(int(dz//(dr)-1))]\n",
    "\n",
    "data = list(product(xs,ys,zs, [r2]))"
   ]
  },
  {
   "cell_type": "code",
   "execution_count": 100,
   "id": "5bd70033-22ae-4aca-b9af-826e790d7adc",
   "metadata": {},
   "outputs": [
    {
     "name": "stdout",
     "output_type": "stream",
     "text": [
      "       X     Y     Z         R\n",
      "0   2.05  2.05  2.05  0.444924\n",
      "1   2.05  2.05  4.15  0.444924\n",
      "2   2.05  2.05  6.25  0.444924\n",
      "3   2.05  4.15  2.05  0.444924\n",
      "4   2.05  4.15  4.15  0.444924\n",
      "5   2.05  4.15  6.25  0.444924\n",
      "6   2.05  6.25  2.05  0.444924\n",
      "7   2.05  6.25  4.15  0.444924\n",
      "8   2.05  6.25  6.25  0.444924\n",
      "9   4.15  2.05  2.05  0.444924\n",
      "10  4.15  2.05  4.15  0.444924\n",
      "11  4.15  2.05  6.25  0.444924\n",
      "12  4.15  4.15  2.05  0.444924\n",
      "13  4.15  4.15  4.15  0.444924\n",
      "14  4.15  4.15  6.25  0.444924\n",
      "15  4.15  6.25  2.05  0.444924\n",
      "16  4.15  6.25  4.15  0.444924\n",
      "17  4.15  6.25  6.25  0.444924\n",
      "18  6.25  2.05  2.05  0.444924\n",
      "19  6.25  2.05  4.15  0.444924\n",
      "20  6.25  2.05  6.25  0.444924\n",
      "21  6.25  4.15  2.05  0.444924\n",
      "22  6.25  4.15  4.15  0.444924\n",
      "23  6.25  4.15  6.25  0.444924\n",
      "24  6.25  6.25  2.05  0.444924\n",
      "25  6.25  6.25  4.15  0.444924\n",
      "26  6.25  6.25  6.25  0.444924\n"
     ]
    },
    {
     "data": {
      "text/plain": [
       "186.5212300334987"
      ]
     },
     "execution_count": 100,
     "metadata": {},
     "output_type": "execute_result"
    }
   ],
   "source": [
    "df2 = pd.DataFrame(np.copy(data), columns=['X', 'Y', 'Z', 'R'])\n",
    "print(df2)\n",
    "\n",
    "df2['X'] *= 30\n",
    "df2['Y'] *= 30\n",
    "df2['Z'] *= 30\n",
    "df2['R'] *= 30\n",
    "(df2['X'].max()*df2['Y'].max()*df2['Z'].max())**0.333"
   ]
  },
  {
   "cell_type": "code",
   "execution_count": 101,
   "id": "5fe69937-27f7-44ad-99b0-0d7d1e24dba9",
   "metadata": {},
   "outputs": [],
   "source": [
    "dfAll = pd.concat([df, df2])"
   ]
  },
  {
   "cell_type": "code",
   "execution_count": 106,
   "id": "d5c48f96-4d36-460e-b985-6d9465094792",
   "metadata": {},
   "outputs": [
    {
     "data": {
      "text/plain": [
       "(250, 250, 250)"
      ]
     },
     "execution_count": 106,
     "metadata": {},
     "output_type": "execute_result"
    }
   ],
   "source": [
    "im = ps.generators.spheres_from_coords(dfAll)\n",
    "im.shape"
   ]
  },
  {
   "cell_type": "code",
   "execution_count": 103,
   "id": "ce5404f6-2bd1-4215-874e-70dc7ab3d228",
   "metadata": {},
   "outputs": [
    {
     "data": {
      "text/plain": [
       "0.520972736"
      ]
     },
     "execution_count": 103,
     "metadata": {},
     "output_type": "execute_result"
    }
   ],
   "source": [
    "1-np.count_nonzero(im)/im.size"
   ]
  },
  {
   "cell_type": "code",
   "execution_count": 104,
   "id": "fd5bd3b7-c57d-45da-bc45-29fc00ad0f2f",
   "metadata": {
    "scrolled": true
   },
   "outputs": [
    {
     "data": {
      "image/png": "[encoded data removed]",
      "text/plain": [
       "<Figure size 432x288 with 1 Axes>"
      ]
     },
     "metadata": {
      "needs_background": "light"
     },
     "output_type": "display_data"
    }
   ],
   "source": [
    "fig, ax = plt.subplots()\n",
    "ax.imshow(ps.visualization.xray(~im[..., :100], axis=2), interpolation='none', origin='lower', cmap=plt.cm.bone)\n",
    "ax.axis(False);"
   ]
  },
  {
   "cell_type": "code",
   "execution_count": 105,
   "id": "98a99741-916e-4dc1-9bde-183f34ba8046",
   "metadata": {},
   "outputs": [],
   "source": [
    "np.save('sphere_pack',im)"
   ]
  },
  {
   "cell_type": "code",
   "execution_count": null,
   "id": "dca4515d-857c-49fc-b2c2-8a3624cc1ee4",
   "metadata": {},
   "outputs": [],
   "source": []
  }
 ],
 "metadata": {
  "kernelspec": {
   "display_name": "Python 3",
   "language": "python",
   "name": "python3"
  },
  "language_info": {
   "codemirror_mode": {
    "name": "ipython",
    "version": 3
   },
   "file_extension": ".py",
   "mimetype": "text/x-python",
   "name": "python",
   "nbconvert_exporter": "python",
   "pygments_lexer": "ipython3",
   "version": "3.8.18"
  }
 },
 "nbformat": 4,
 "nbformat_minor": 5
}
